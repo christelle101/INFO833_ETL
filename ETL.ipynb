{
 "cells": [
  {
   "cell_type": "markdown",
   "metadata": {},
   "source": [
    "# 👾 TP INFO833 | Système de gestion d'ETL à grande échelle"
   ]
  },
  {
   "cell_type": "markdown",
   "metadata": {},
   "source": [
    "## 🏗️ Construction d'un ETL\n"
   ]
  },
  {
   "cell_type": "markdown",
   "metadata": {},
   "source": [
    "Un ETL est un logiciel permettant d'intégrer des grands volumes de données de différents types, en provenance de différentes sources. Il extrait les données brutes, les restructure et enfin les charge dans une Data Warehouse. Ces opérations sont réalisées en temps réel et permettent d'enrichir les données et de prendre en charge des milliards de transactions."
   ]
  }
 ],
 "metadata": {
  "language_info": {
   "name": "python"
  },
  "orig_nbformat": 4
 },
 "nbformat": 4,
 "nbformat_minor": 2
}
